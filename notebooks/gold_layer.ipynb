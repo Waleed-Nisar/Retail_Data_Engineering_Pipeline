{
 "cells": [
  {
   "cell_type": "code",
   "execution_count": null,
   "id": "27860c2d",
   "metadata": {
    "vscode": {
     "languageId": "plaintext"
    }
   },
   "outputs": [],
   "source": [
    "import pandas as pd\n",
    "from azure.storage.blob import BlobServiceClient\n",
    "import io\n",
    "\n",
    "# Configuration\n",
    "account_name = \"retailstorage11\"\n",
    "account_key = \"Key of Azure Account\"\n",
    "container_name = \"retail\"\n",
    "\n",
    "print(\"🔄 Attempting to connect to Azure Blob Storage...\")\n",
    "\n",
    "try:\n",
    "    # Create blob service client\n",
    "    account_url = f\"https://{account_name}.blob.core.windows.net\"\n",
    "    print(f\"📍 Account URL: {account_url}\")\n",
    "    \n",
    "    blob_service_client = BlobServiceClient(account_url=account_url, credential=account_key)\n",
    "    \n",
    "    # Test connection by getting container client\n",
    "    container_client = blob_service_client.get_container_client(container_name)\n",
    "    print(f\"📂 Container: {container_name}\")\n",
    "    \n",
    "    # List blobs in container\n",
    "    print(\"🔍 Listing blobs...\")\n",
    "    blob_list = list(container_client.list_blobs())\n",
    "    \n",
    "    print(f\"✅ Successfully connected! Found {len(blob_list)} files:\")\n",
    "    \n",
    "    if len(blob_list) == 0:\n",
    "        print(\"📭 No files found in the container\")\n",
    "    else:\n",
    "        for i, blob in enumerate(blob_list[:10]):  # Show first 10 files\n",
    "            print(f\"  {i+1}. {blob.name} ({blob.size} bytes)\")\n",
    "        \n",
    "        if len(blob_list) > 10:\n",
    "            print(f\"  ... and {len(blob_list) - 10} more files\")\n",
    "\n",
    "except Exception as e:\n",
    "    print(f\"❌ Error: {e}\")\n",
    "    print(f\"Error type: {type(e).__name__}\")\n"
   ]
  },
  {
   "cell_type": "code",
   "execution_count": null,
   "id": "8c955b07",
   "metadata": {
    "vscode": {
     "languageId": "plaintext"
    }
   },
   "outputs": [],
   "source": [
    "# Create Gold layer aggregations - Business Intelligence metrics\n",
    "# This creates daily sales summaries by product and store location\n",
    "\n",
    "gold_df = silver_df.groupby([\n",
    "    \"transaction_date\",     # Group by each day\n",
    "    \"product_id\", \n",
    "    \"product_name\", \n",
    "    \"category\",            # Product category (e.g., Electronics, Clothing)\n",
    "    \"store_id\",            # Fixed typo: was \"store id\" \n",
    "    \"store_name\", \n",
    "    \"location\"             # Store location/city\n",
    "]).agg({\n",
    "    \"quantity\": \"sum\",                    # Total units sold per product per store per day\n",
    "    \"total_amount\": [\"sum\", \"mean\"],      # Total revenue + average transaction value\n",
    "    \"transaction_id\": \"nunique\"           # Count of unique transactions\n",
    "}).reset_index()\n",
    "\n",
    "# Flatten column names after aggregation\n",
    "gold_df.columns = [\n",
    "    \"transaction_date\", \"product_id\", \"product_name\", \"category\", \n",
    "    \"store_id\", \"store_name\", \"location\",\n",
    "    \"total_quantity_sold\",          # How many units sold\n",
    "    \"total_sales_amount\",           # Total revenue generated  \n",
    "    \"average_transaction_value\",    # Average $ per transaction\n",
    "    \"number_of_transactions\"        # How many separate purchases\n",
    "]\n",
    "\n",
    "print(\"🏆 Gold Layer - Business Intelligence Metrics Created!\")\n",
    "print(\"=\" * 60)\n",
    "print(f\"Shape: {gold_df.shape}\")\n",
    "print(gold_df.head())"
   ]
  },
  {
   "cell_type": "code",
   "execution_count": null,
   "id": "67b83345",
   "metadata": {
    "vscode": {
     "languageId": "plaintext"
    }
   },
   "outputs": [],
   "source": [
    "# Save Gold layer data to Azure Blob Storage\n",
    "gold_blob_name = \"gold/business_metrics/daily_sales_summary.parquet\"\n",
    "\n",
    "try:\n",
    "    print(f\"💾 Saving Gold layer data...\")\n",
    "    \n",
    "    # Convert DataFrame to parquet bytes\n",
    "    parquet_buffer = io.BytesIO()\n",
    "    gold_df.to_parquet(parquet_buffer, index=False)\n",
    "    parquet_buffer.seek(0)\n",
    "    \n",
    "    # Upload to blob storage\n",
    "    blob_client = container_client.get_blob_client(gold_blob_name)\n",
    "    blob_client.upload_blob(parquet_buffer.getvalue(), overwrite=True)\n",
    "    \n",
    "    print(f\"✅ Successfully saved Gold layer to {gold_blob_name}\")\n",
    "    print(f\"   Records saved: {gold_df.shape[0]}\")\n",
    "    print(f\"   Business metrics ready for analytics!\")\n",
    "    \n",
    "except Exception as e:\n",
    "    print(f\"❌ Error saving Gold layer: {e}\")"
   ]
  },
  {
   "cell_type": "code",
   "execution_count": null,
   "id": "ac4a367f",
   "metadata": {
    "vscode": {
     "languageId": "plaintext"
    }
   },
   "outputs": [],
   "source": [
    "# Read the Gold layer dataset we just created (pandas equivalent)\n",
    "gold_blob_name = \"gold/business_metrics/daily_sales_summary.parquet\"\n",
    "\n",
    "try:\n",
    "    print(f\"📖 Loading Gold layer dataset...\")\n",
    "    \n",
    "    # Read the gold layer data from Azure Blob Storage\n",
    "    blob_client = container_client.get_blob_client(gold_blob_name)\n",
    "    blob_data = blob_client.download_blob().readall()\n",
    "    \n",
    "    # Create the gold dataset DataFrame (equivalent to creating table)\n",
    "    retail_gold_sales_summary = pd.read_parquet(io.BytesIO(blob_data))\n",
    "    \n",
    "    print(f\"✅ Successfully loaded Gold layer dataset\")\n",
    "    print(f\"   Shape: {retail_gold_sales_summary.shape}\")\n",
    "    print(f\"   Columns: {list(retail_gold_sales_summary.columns)}\")\n",
    "    print(\"\\nFirst 5 rows:\")\n",
    "    print(retail_gold_sales_summary.head())\n",
    "    \n",
    "    print(f\"\\n🏆 Gold layer table 'retail_gold_sales_summary' is ready!\")\n",
    "    print(\"   Use this DataFrame for business analytics and reporting\")\n",
    "    \n",
    "except Exception as e:\n",
    "    print(f\"❌ Error loading Gold layer dataset: {e}\")"
   ]
  },
  {
   "cell_type": "code",
   "execution_count": null,
   "id": "4de81ff6",
   "metadata": {
    "vscode": {
     "languageId": "plaintext"
    }
   },
   "outputs": [],
   "source": [
    "# Display all data from retail_gold_sales_summary (pandas equivalent of SELECT *)\n",
    "print(\"🏆 GOLD LAYER - Business Intelligence Summary\")\n",
    "print(\"=\" * 70)\n",
    "\n",
    "# Show basic info\n",
    "print(f\"📊 Dataset Overview:\")\n",
    "print(f\"   Total Records: {retail_gold_sales_summary.shape[0]}\")\n",
    "print(f\"   Total Columns: {retail_gold_sales_summary.shape[1]}\")\n",
    "print(f\"   Columns: {list(retail_gold_sales_summary.columns)}\")\n",
    "\n",
    "print(f\"\\n📋 All Gold Layer Data:\")\n",
    "print(\"-\" * 70)\n",
    "# Display all records\n",
    "print(retail_gold_sales_summary)\n",
    "\n",
    "print(f\"\\n📈 Data Summary:\")\n",
    "print(\"-\" * 30)\n",
    "print(retail_gold_sales_summary.describe())\n",
    "\n",
    "print(f\"\\n💰 Key Business Metrics:\")\n",
    "print(\"-\" * 30)\n",
    "print(f\"   Total Revenue: ${retail_gold_sales_summary['total_sales_amount'].sum():,.2f}\")\n",
    "print(f\"   Total Units Sold: {retail_gold_sales_summary['total_quantity_sold'].sum():,}\")\n",
    "print(f\"   Total Transactions: {retail_gold_sales_summary['number_of_transactions'].sum():,}\")\n",
    "print(f\"   Average Transaction Value: ${retail_gold_sales_summary['average_transaction_value'].mean():.2f}\")"
   ]
  },
  {
   "cell_type": "code",
   "execution_count": null,
   "id": "28ba521f",
   "metadata": {
    "vscode": {
     "languageId": "plaintext"
    }
   },
   "outputs": [],
   "source": [
    "# Export Gold layer data to CSV for Power BI\n",
    "csv_blob_name = \"gold/powerbi/retail_gold_sales_summary.csv\"\n",
    "\n",
    "try:\n",
    "    print(\"📊 Exporting Gold layer data to CSV for Power BI...\")\n",
    "    \n",
    "    # Convert DataFrame to CSV bytes\n",
    "    csv_buffer = io.StringIO()\n",
    "    retail_gold_sales_summary.to_csv(csv_buffer, index=False)\n",
    "    csv_data = csv_buffer.getvalue().encode('utf-8')\n",
    "    \n",
    "    # Upload CSV to blob storage\n",
    "    blob_client = container_client.get_blob_client(csv_blob_name)\n",
    "    blob_client.upload_blob(csv_data, overwrite=True)\n",
    "    \n",
    "    print(f\"✅ CSV exported to: {csv_blob_name}\")\n",
    "    print(\"📥 You can now download this CSV from Azure Storage Explorer\")\n",
    "    \n",
    "except Exception as e:\n",
    "    print(f\"❌ Error exporting CSV: {e}\")"
   ]
  }
 ],
 "metadata": {
  "language_info": {
   "name": "python"
  }
 },
 "nbformat": 4,
 "nbformat_minor": 5
}
